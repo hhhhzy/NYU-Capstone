{
 "cells": [
  {
   "cell_type": "code",
   "execution_count": 1,
   "id": "703e77e6",
   "metadata": {},
   "outputs": [],
   "source": [
    "import scipy.io\n",
    "import matplotlib.pyplot as plt\n",
    "import numpy as np"
   ]
  },
  {
   "cell_type": "code",
   "execution_count": 29,
   "id": "8282ec9f",
   "metadata": {},
   "outputs": [
    {
     "name": "stderr",
     "output_type": "stream",
     "text": [
      "C:\\Users\\curti\\anaconda3\\envs\\learning\\lib\\site-packages\\scipy\\io\\matlab\\mio.py:226: MatReadWarning: Duplicate variable name \"None\" in stream - replacing previous with new\n",
      "Consider mio5.varmats_from_mat to split file into single variable files\n",
      "  matfile_dict = MR.get_variables(variable_names)\n"
     ]
    }
   ],
   "source": [
    "burger = scipy.io.loadmat(r'C:\\Users\\curti\\Desktop\\nyu-capstone\\notebooks\\burger\\burgers_v100_t100_r1024_N2048.mat')"
   ]
  },
  {
   "cell_type": "code",
   "execution_count": 30,
   "id": "a28f5194",
   "metadata": {},
   "outputs": [
    {
     "ename": "TypeError",
     "evalue": "unhashable type: 'slice'",
     "output_type": "error",
     "traceback": [
      "\u001b[1;31m---------------------------------------------------------------------------\u001b[0m",
      "\u001b[1;31mTypeError\u001b[0m                                 Traceback (most recent call last)",
      "\u001b[1;32m~\\AppData\\Local\\Temp/ipykernel_9240/3116627119.py\u001b[0m in \u001b[0;36m<module>\u001b[1;34m\u001b[0m\n\u001b[0;32m      1\u001b[0m \u001b[0moutput\u001b[0m \u001b[1;33m=\u001b[0m \u001b[0mburger\u001b[0m\u001b[1;33m[\u001b[0m\u001b[1;34m'output'\u001b[0m\u001b[1;33m]\u001b[0m\u001b[1;33m\u001b[0m\u001b[1;33m\u001b[0m\u001b[0m\n\u001b[0;32m      2\u001b[0m \u001b[1;33m\u001b[0m\u001b[0m\n\u001b[1;32m----> 3\u001b[1;33m \u001b[0moutput\u001b[0m \u001b[1;33m=\u001b[0m \u001b[0mburger\u001b[0m\u001b[1;33m[\u001b[0m\u001b[1;36m0\u001b[0m\u001b[1;33m,\u001b[0m\u001b[1;33m:\u001b[0m\u001b[1;33m,\u001b[0m\u001b[1;33m:\u001b[0m\u001b[1;33m:\u001b[0m\u001b[1;36m8\u001b[0m\u001b[1;33m]\u001b[0m\u001b[1;33m\u001b[0m\u001b[1;33m\u001b[0m\u001b[0m\n\u001b[0m",
      "\u001b[1;31mTypeError\u001b[0m: unhashable type: 'slice'"
     ]
    }
   ],
   "source": [
    "output = burger['output']\n",
    "\n",
    "output = burger[0,:,::8]"
   ]
  },
  {
   "cell_type": "code",
   "execution_count": 4,
   "id": "4d776913",
   "metadata": {},
   "outputs": [
    {
     "name": "stdout",
     "output_type": "stream",
     "text": [
      "__header__\n",
      "__version__\n",
      "__globals__\n",
      "input (2048, 1024)\n",
      "output (2048, 101, 1024)\n",
      "sigma (1, 1)\n",
      "steps (1, 1)\n",
      "tau (1, 1)\n",
      "tspan (1, 101)\n",
      "None (1,)\n",
      "u0eval (1, 1025)\n",
      "visc (1, 1)\n",
      "__function_workspace__ (1, 3055224)\n"
     ]
    }
   ],
   "source": [
    "for k, v in burger.items():\n",
    "    try:\n",
    "        print(k, v.shape)\n",
    "    except:\n",
    "        print(k)"
   ]
  },
  {
   "cell_type": "code",
   "execution_count": 9,
   "id": "bfeeb595",
   "metadata": {},
   "outputs": [
    {
     "data": {
      "text/plain": [
       "[<matplotlib.lines.Line2D at 0x2a25aa4b580>]"
      ]
     },
     "execution_count": 9,
     "metadata": {},
     "output_type": "execute_result"
    },
    {
     "data": {
      "image/png": "[encoded data removed]",
      "text/plain": [
       "<Figure size 432x288 with 1 Axes>"
      ]
     },
     "metadata": {
      "needs_background": "light"
     },
     "output_type": "display_data"
    }
   ],
   "source": [
    "plt.plot(np.arange(1024), burger['output'][1,100, :])"
   ]
  },
  {
   "cell_type": "code",
   "execution_count": 8,
   "id": "75f4f31b",
   "metadata": {},
   "outputs": [
    {
     "data": {
      "text/plain": [
       "[<matplotlib.lines.Line2D at 0x2a25a9e4760>]"
      ]
     },
     "execution_count": 8,
     "metadata": {},
     "output_type": "execute_result"
    },
    {
     "data": {
      "image/png": "[encoded data removed]",
      "text/plain": [
       "<Figure size 432x288 with 1 Axes>"
      ]
     },
     "metadata": {
      "needs_background": "light"
     },
     "output_type": "display_data"
    }
   ],
   "source": [
    "plt.plot(np.arange(1024), burger['output'][1,1, :])"
   ]
  },
  {
   "cell_type": "code",
   "execution_count": 10,
   "id": "b9616412",
   "metadata": {},
   "outputs": [],
   "source": [
    "output = burger['output']\n",
    "sampleSize, timeSize, outSize = output.shape"
   ]
  },
  {
   "cell_type": "code",
   "execution_count": 17,
   "id": "564301f8",
   "metadata": {},
   "outputs": [
    {
     "data": {
      "text/plain": [
       "(101, 128)"
      ]
     },
     "execution_count": 17,
     "metadata": {},
     "output_type": "execute_result"
    }
   ],
   "source": [
    "output[0,:,::8].shape"
   ]
  },
  {
   "cell_type": "code",
   "execution_count": 12,
   "id": "095128fe",
   "metadata": {},
   "outputs": [],
   "source": [
    "all_out = []"
   ]
  },
  {
   "cell_type": "code",
   "execution_count": 23,
   "id": "973ec4bd",
   "metadata": {},
   "outputs": [],
   "source": [
    "data = output[0,:,::8]\n",
    "out = []\n",
    "window_size = 10\n",
    "pred_size = 1\n",
    "for i in range(len(data) - window_size):\n",
    "        feature = np.array(data[:, i:i+(window_size)])\n",
    "        target = np.array(data[:, i+pred_size:i+window_size+pred_size])\n",
    "        out.append((feature, target))"
   ]
  },
  {
   "cell_type": "code",
   "execution_count": 28,
   "id": "3e49403f",
   "metadata": {},
   "outputs": [
    {
     "data": {
      "text/plain": [
       "(101, 10)"
      ]
     },
     "execution_count": 28,
     "metadata": {},
     "output_type": "execute_result"
    }
   ],
   "source": [
    "out[0][].shape"
   ]
  },
  {
   "cell_type": "code",
   "execution_count": 13,
   "id": "b6490593",
   "metadata": {},
   "outputs": [
    {
     "name": "stdout",
     "output_type": "stream",
     "text": [
      "Using device:  cuda:0\n"
     ]
    },
    {
     "name": "stderr",
     "output_type": "stream",
     "text": [
      "C:\\Users\\curti\\anaconda3\\envs\\learning\\lib\\site-packages\\scipy\\io\\matlab\\mio.py:226: MatReadWarning: Duplicate variable name \"None\" in stream - replacing previous with new\n",
      "Consider mio5.varmats_from_mat to split file into single variable files\n",
      "  matfile_dict = MR.get_variables(variable_names)\n"
     ]
    },
    {
     "name": "stdout",
     "output_type": "stream",
     "text": [
      "Total of 9075 samples in training set and 13 samples in test set\n",
      "Epoch: 1, train_loss: 0.04397374217667856, test_loss: 3.5715501291213935e-05, lr: [1e-05]\n",
      "Epoch: 2, train_loss: 0.02185348511563188, test_loss: 1.998481674001176e-05, lr: [1e-05]\n",
      "Epoch: 3, train_loss: 0.013617920151426773, test_loss: 6.059704985371074e-05, lr: [1e-05]\n",
      "----Current loss 6.059704985371074e-05 higher than best loss 1.998481674001176e-05, early stop counter 1----\n",
      "Epoch: 4, train_loss: 0.008922302988114108, test_loss: 1.308357017338634e-05, lr: [1e-05]\n",
      "Saving prediction for epoch 5\n",
      "Epoch: 5, train_loss: 0.006800492777804698, test_loss: 4.7063808986754684e-06, lr: [1e-05]\n",
      "Epoch: 6, train_loss: 0.005260663762401287, test_loss: 0.00010356898173295821, lr: [9.5e-06]\n",
      "----Current loss 0.00010356898173295821 higher than best loss 4.7063808986754684e-06, early stop counter 1----\n",
      "Epoch: 7, train_loss: 0.00437298691880276, test_loss: 8.917715548215291e-05, lr: [9.5e-06]\n",
      "----Current loss 8.917715548215291e-05 higher than best loss 4.7063808986754684e-06, early stop counter 2----\n",
      "Epoch: 8, train_loss: 0.003711153406229065, test_loss: 9.89639778645404e-06, lr: [9.5e-06]\n",
      "----Current loss 9.89639778645404e-06 higher than best loss 4.7063808986754684e-06, early stop counter 3----\n",
      "Epoch: 9, train_loss: 0.0032222915921083168, test_loss: 3.6359673186799805e-06, lr: [9.5e-06]\n",
      "Saving prediction for epoch 10\n",
      "Epoch: 10, train_loss: 0.0028984075342369147, test_loss: 3.4654773326810056e-05, lr: [9.5e-06]\n",
      "----Current loss 3.4654773326810056e-05 higher than best loss 3.6359673186799805e-06, early stop counter 1----\n",
      "MSE: 0.007318149786442518, MAE: 0.07851852476596832\n"
     ]
    }
   ],
   "source": [
    "#!/bin/bash python\n",
    "import torch \n",
    "from torch.utils import tensorboard\n",
    "import torch.optim as optim\n",
    "import pandas as pd\n",
    "import numpy as np\n",
    "from sklearn.metrics import mean_absolute_error, mean_squared_error\n",
    "import matplotlib.pyplot as plt\n",
    "import time\n",
    "from transformer import Tranformer\n",
    "from utils import *\n",
    "\n",
    "\n",
    "def process_one_batch(batch_x, batch_y):\n",
    "        batch_x = batch_x.float().to(device)\n",
    "        batch_y = batch_y.float().to(device)\n",
    "\n",
    "        dec_inp = torch.zeros([batch_y.shape[0], 1, batch_y.shape[-1]]).float().to(device)\n",
    "        dec_inp = torch.cat([batch_y[:,:(window_size-1),:], dec_inp], dim=1).float().to(device)\n",
    "        outputs = model(batch_x, dec_inp)\n",
    "\n",
    "        return outputs, batch_y\n",
    "\n",
    "\n",
    "\n",
    "def evaluate(model,data_loader,criterion):\n",
    "    model.eval()    \n",
    "    test_rollout = torch.Tensor(0)   \n",
    "    test_result = torch.Tensor(0)  \n",
    "    truth = torch.Tensor(0)\n",
    "    total_loss = 0.\n",
    "    device = \"cpu\"\n",
    "    if torch.cuda.is_available():\n",
    "        device = \"cuda:0\"\n",
    "        if torch.cuda.device_count() > 1:\n",
    "            model = nn.DataParallel(model)\n",
    "    with torch.no_grad():\n",
    "        for i, (data,targets) in enumerate(data_loader):\n",
    "            enc_in, dec_in, targets = data.to(device), targets.to(device), targets.to(device)\n",
    "            output, _ = process_one_batch(enc_in,dec_in)\n",
    "\n",
    "            total_loss += criterion(output[:,-1:,:], targets[:,-1:,:]).detach().cpu().numpy()\n",
    "            test_rollout = torch.cat([test_rollout,output[:,-1:,:].detach().cpu()],dim = 1)\n",
    "\n",
    "    return total_loss, test_rollout[:,-10:,:]\n",
    "\n",
    "def predict_model(model, test_loader, window_size, epoch, plot=True):\n",
    "    model.eval()\n",
    "    test_rollout = torch.Tensor(0)   \n",
    "    test_result = torch.Tensor(0)  \n",
    "    truth = torch.Tensor(0)\n",
    "    device = \"cpu\"\n",
    "    if torch.cuda.is_available():\n",
    "        device = \"cuda:0\"\n",
    "        if torch.cuda.device_count() > 1:\n",
    "            model = nn.DataParallel(model)\n",
    "    with torch.no_grad():\n",
    "        for i, (data,targets) in enumerate(test_loader):\n",
    "            if i == 0:\n",
    "                enc_in = data\n",
    "                dec_in = targets\n",
    "                test_rollout = targets\n",
    "            else:\n",
    "                enc_in = test_rollout[:,-window_size:,:]\n",
    "                dec_in = torch.zeros([enc_in.shape[0], 1, enc_in.shape[-1]]).float()\n",
    "                dec_in = torch.cat([enc_in[:,:(window_size-1),:], dec_in], dim=1).float()\n",
    "                #dec_in = enc_in[:,:(window_size-1),:]\n",
    "            enc_in, dec_in, targets = enc_in.to(device), dec_in.to(device), targets.to(device)\n",
    "            output = model(enc_in, dec_in)\n",
    "            all_out.append(output)\n",
    "            test_rollout = torch.cat([test_rollout,output[:,-1:,:].detach().cpu()],dim = 1)\n",
    "            test_result = torch.cat((test_result, output[:,-1,:].view(-1).detach().cpu()), 0)\n",
    "            truth = torch.cat((truth, targets[:,-1,:].view(-1).detach().cpu()), 0)\n",
    "            \n",
    "    if plot==True:\n",
    "        fig, ax = plt.subplots(nrows =1, ncols=1, figsize=(20,10))\n",
    "        ax.plot(test_result,color=\"red\")\n",
    "        ax.plot(truth,color=\"blue\")\n",
    "        ax.plot(test_result-truth,color=\"green\")\n",
    "        ax.grid(True, which='both')\n",
    "        ax.axhline(y=0, color='k')\n",
    "        fig.savefig(f'transformer_epoch{epoch}_pred.png')\n",
    "        plt.close(fig)\n",
    "\n",
    "class early_stopping():\n",
    "    def __init__(self, patience=5, delta=0):\n",
    "        self.patience = patience\n",
    "        self.delta = delta\n",
    "        self.early_stop = False\n",
    "        self.best_loss = None\n",
    "        self.counter = 0\n",
    "        self.best_model = None\n",
    "    \n",
    "    def __call__(self, model, val_loss):\n",
    "        if self.best_loss is None:\n",
    "            self.best_loss = val_loss\n",
    "        elif val_loss < self.best_loss-self.delta:\n",
    "            self.best_loss = val_loss\n",
    "            self.counter = 0\n",
    "            self.best_model = model\n",
    "        else:\n",
    "            self.counter += 1 \n",
    "            if self.counter == self.patience:\n",
    "                self.early_stop = True\n",
    "                print('Early stopping')\n",
    "            print(f'----Current loss {val_loss} higher than best loss {self.best_loss}, early stop counter {self.counter}----')\n",
    "    \n",
    "  \n",
    "    \n",
    "\n",
    "\n",
    "if __name__ == \"__main__\":\n",
    "    #root_dir = '/scratch/zh2095/nyu-capstone/notebooks/turbulence_16/tune_results'\n",
    "    root_dir = r'C:\\Users\\curti\\scratch\\tl2204\\tune_results'\n",
    "    root_dir = ''\n",
    "    best_config = {'feature_size': 64, 'num_enc_layers': 1, 'num_dec_layers': 1, 'num_head': 2, 'd_ff': 512, 'dropout': 0.1, 'window_size': 10}\n",
    "    train_proportion = 0.75\n",
    "    test_proportion = 0.1\n",
    "    val_proportion = 0.15\n",
    "    feature_size = best_config['feature_size']\n",
    "    num_enc_layers = best_config['num_enc_layers']\n",
    "    num_dec_layers = best_config['num_dec_layers']\n",
    "    d_ff = best_config['d_ff']\n",
    "    num_head = best_config['num_head']\n",
    "    dropout = best_config['dropout']\n",
    "    lr = 1e-5#best_config['lr']\n",
    "    window_size = best_config['window_size']\n",
    "    batch_size = 16#best_config['batch_size']\n",
    "\n",
    "    model = Tranformer(feature_size=feature_size,num_enc_layers=num_enc_layers,num_dec_layers = num_dec_layers,\\\n",
    "        d_ff = d_ff, dropout=dropout,num_head=num_head)\n",
    "\n",
    "    device = \"cpu\"\n",
    "    if torch.cuda.is_available():\n",
    "        device = \"cuda:0\"\n",
    "        if torch.cuda.device_count() > 1:\n",
    "            model = nn.DataParallel(model)\n",
    "    print('Using device: ',device)\n",
    "    model.to(device)\n",
    "            \n",
    "    criterion = nn.MSELoss()\n",
    "    optimizer = optim.AdamW(model.parameters(), lr=lr)\n",
    "    scheduler = optim.lr_scheduler.StepLR(optimizer, 1.0, gamma=0.95)\n",
    "    writer = tensorboard.SummaryWriter('/scratch/tl2204/tensorboard_output/')\n",
    "    \n",
    "    # if checkpoint_dir:\n",
    "    #     checkpoint = os.path.join(checkpoint_dir, \"checkpoint\")\n",
    "    #     model_state, optimizer_state = torch.load(checkpoint)\n",
    "    #     model.load_state_dict(model_state)\n",
    "    #     optimizer.load_state_dict(optimizer_state)\n",
    "        \n",
    "    train_loader, test_loader = get_data_loaders(train_proportion, test_proportion, val_proportion,\\\n",
    "         window_size=window_size, pred_size =1, batch_size=batch_size, num_workers = 2, pin_memory = False, test_mode = True)\n",
    "\n",
    "    epochs = 10\n",
    "    train_losses = []\n",
    "    test_losses = []\n",
    "    tolerance = 10\n",
    "    best_test_loss = float('inf')\n",
    "    Early_Stopping = early_stopping(patience=25)\n",
    "    for epoch in range(1, epochs + 1):\n",
    "        model.train() \n",
    "        total_loss = 0.\n",
    "        \n",
    "        for i,(data, targets) in enumerate(train_loader):\n",
    "\n",
    "   \n",
    "            data, targets = data.to(device), targets.to(device)\n",
    "            optimizer.zero_grad()\n",
    "            output, truth = process_one_batch(data,targets)\n",
    "            loss = criterion(output[:,-1,:], targets[:,-1,:])\n",
    "            total_loss += loss.item()\n",
    "            loss.backward()\n",
    "            optimizer.step()\n",
    "\n",
    "\n",
    "        if (epoch%5 == 0):\n",
    "            print(f'Saving prediction for epoch {epoch}')\n",
    "            predict_model(model, test_loader, window_size, epoch, plot=True)    \n",
    "\n",
    "\n",
    "        train_losses.append(total_loss*batch_size)\n",
    "        test_loss, debug_output = evaluate(model, test_loader, criterion)\n",
    "        test_losses.append(test_loss/len(test_loader.dataset))\n",
    "\n",
    "\n",
    "        if epoch==1: ###DEBUG\n",
    "            print(f'Total of {len(train_loader.dataset)} samples in training set and {len(test_loader.dataset)} samples in test set')\n",
    "\n",
    "\n",
    "        print(f'Epoch: {epoch}, train_loss: {total_loss*batch_size/len(train_loader.dataset)}, test_loss: {test_loss/len(test_loader.dataset)}, lr: {scheduler.get_last_lr()}')\n",
    "\n",
    "\n",
    "        Early_Stopping(model, test_loss/len(test_loader))\n",
    "        if Early_Stopping.early_stop:\n",
    "            break\n",
    "\n",
    "\n",
    "        writer.add_scalar('train_loss',total_loss,epoch)\n",
    "        writer.add_scalar('val_loss',test_loss,epoch)\n",
    "\n",
    "\n",
    "        if epoch%5 == 0:\n",
    "            scheduler.step() \n",
    "\n",
    "\n",
    "### Plot losses        \n",
    "    model = Early_Stopping.best_model\n",
    "    xs = np.arange(len(train_losses))\n",
    "    fig, ax = plt.subplots(nrows =1, ncols=1, figsize=(20,10))\n",
    "    ax.plot(xs,train_losses)\n",
    "    fig.savefig('transformer_train_loss.png')\n",
    "    plt.close(fig)\n",
    "    fig, ax = plt.subplots(nrows =1, ncols=1, figsize=(20,10))\n",
    "    ax.plot(xs,test_losses)\n",
    "    fig.savefig('transformer_test_loss.png')\n",
    "    plt.close(fig)\n",
    "### Predict\n",
    "    model.eval()\n",
    "    test_rollout = torch.Tensor(0)   \n",
    "    test_result = torch.Tensor(0)  \n",
    "    truth = torch.Tensor(0)\n",
    "    device = \"cpu\"\n",
    "    if torch.cuda.is_available():\n",
    "        device = \"cuda:0\"\n",
    "        if torch.cuda.device_count() > 1:\n",
    "            model = nn.DataParallel(model)\n",
    "    with torch.no_grad():\n",
    "        for i, (data,targets) in enumerate(test_loader):\n",
    "            if i == 0:\n",
    "                enc_in = data\n",
    "                dec_in = targets\n",
    "                test_rollout = targets\n",
    "            else:\n",
    "                enc_in = test_rollout[:,-window_size:,:]\n",
    "                dec_in = torch.zeros([enc_in.shape[0], 1, enc_in.shape[-1]]).float()\n",
    "                dec_in = torch.cat([enc_in[:,:(window_size-1),:], dec_in], dim=1).float()\n",
    "                #dec_in = enc_in[:,:(window_size-1),:]\n",
    "            enc_in, dec_in, targets = enc_in.to(device), dec_in.to(device), targets.to(device)\n",
    "            output = model(enc_in, dec_in)\n",
    "\n",
    "            test_rollout = torch.cat([test_rollout,output[:,-1:,:].detach().cpu()],dim = 1)\n",
    "            test_result = torch.cat((test_result, output[:,-1,:].view(-1).detach().cpu()), 0)\n",
    "            truth = torch.cat((truth, targets[:,-1,:].view(-1).detach().cpu()), 0)\n",
    "            \n",
    "    ### Plot prediction\n",
    "    fig, ax = plt.subplots(nrows =1, ncols=1, figsize=(20,10))\n",
    "    ax.plot(test_result,color=\"red\")\n",
    "    ax.plot(truth,color=\"blue\")\n",
    "    ax.plot(test_result-truth,color=\"green\")\n",
    "    ax.grid(True, which='both')\n",
    "    ax.axhline(y=0, color='k')\n",
    "    fig.savefig('transformer_pred.png')\n",
    "    plt.close(fig)\n",
    "\n",
    "### Check MSE, MAE\n",
    "    test_result = test_result.numpy()\n",
    "    truth = truth.numpy()\n",
    "    MSE = mean_squared_error(truth, test_result)\n",
    "    MAE = mean_absolute_error(truth, test_result)\n",
    "    print(f'MSE: {MSE}, MAE: {MAE}')\n",
    "### Save model result\n",
    "    test_result_df = pd.DataFrame(test_result)\n",
    "    test_result_df.to_csv('transformer_prediction.csv')\n",
    "\n",
    "\n",
    "\n"
   ]
  },
  {
   "cell_type": "code",
   "execution_count": 15,
   "id": "3339e035",
   "metadata": {},
   "outputs": [
    {
     "data": {
      "text/plain": [
       "26"
      ]
     },
     "execution_count": 15,
     "metadata": {},
     "output_type": "execute_result"
    }
   ],
   "source": [
    "len(all_out)"
   ]
  }
 ],
 "metadata": {
  "kernelspec": {
   "display_name": "Python 3 (ipykernel)",
   "language": "python",
   "name": "python3"
  },
  "language_info": {
   "codemirror_mode": {
    "name": "ipython",
    "version": 3
   },
   "file_extension": ".py",
   "mimetype": "text/x-python",
   "name": "python",
   "nbconvert_exporter": "python",
   "pygments_lexer": "ipython3",
   "version": "3.8.12"
  }
 },
 "nbformat": 4,
 "nbformat_minor": 5
}
