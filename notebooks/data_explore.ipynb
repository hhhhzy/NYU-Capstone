{
 "cells": [
  {
   "cell_type": "code",
   "execution_count": 7,
   "source": [
    "import h5py\n",
    "import numpy as np\n",
    "import os\n"
   ],
   "outputs": [],
   "metadata": {}
  },
  {
   "cell_type": "code",
   "execution_count": 8,
   "source": [
    "data_path='/scratch/zh2095/data_mixing_layer_tshtcool10_Mach03_chi100_128'"
   ],
   "outputs": [],
   "metadata": {}
  },
  {
   "cell_type": "code",
   "execution_count": 9,
   "source": [
    "sorted(os.listdir(data_path))"
   ],
   "outputs": [
    {
     "output_type": "execute_result",
     "data": {
      "text/plain": [
       "['athinput.mixing_layer_tshtcool10_Mach03_chi100_128.sh',\n",
       " 'mixing_layer_tshtcool10_Mach03_chi100_128.prim.00000.athdf',\n",
       " 'mixing_layer_tshtcool10_Mach03_chi100_128.prim.00001.athdf',\n",
       " 'mixing_layer_tshtcool10_Mach03_chi100_128.prim.00002.athdf',\n",
       " 'mixing_layer_tshtcool10_Mach03_chi100_128.prim.00003.athdf',\n",
       " 'mixing_layer_tshtcool10_Mach03_chi100_128.prim.00004.athdf',\n",
       " 'mixing_layer_tshtcool10_Mach03_chi100_128.prim.00005.athdf',\n",
       " 'mixing_layer_tshtcool10_Mach03_chi100_128.prim.00006.athdf',\n",
       " 'mixing_layer_tshtcool10_Mach03_chi100_128.prim.00007.athdf',\n",
       " 'mixing_layer_tshtcool10_Mach03_chi100_128.prim.00008.athdf',\n",
       " 'mixing_layer_tshtcool10_Mach03_chi100_128.prim.00009.athdf',\n",
       " 'mixing_layer_tshtcool10_Mach03_chi100_128.prim.00010.athdf',\n",
       " 'mixing_layer_tshtcool10_Mach03_chi100_128.prim.00011.athdf',\n",
       " 'mixing_layer_tshtcool10_Mach03_chi100_128.prim.00012.athdf',\n",
       " 'mixing_layer_tshtcool10_Mach03_chi100_128.prim.00013.athdf',\n",
       " 'mixing_layer_tshtcool10_Mach03_chi100_128.prim.00014.athdf',\n",
       " 'mixing_layer_tshtcool10_Mach03_chi100_128.prim.00015.athdf',\n",
       " 'mixing_layer_tshtcool10_Mach03_chi100_128.prim.00016.athdf',\n",
       " 'mixing_layer_tshtcool10_Mach03_chi100_128.prim.00017.athdf',\n",
       " 'mixing_layer_tshtcool10_Mach03_chi100_128.prim.00018.athdf',\n",
       " 'mixing_layer_tshtcool10_Mach03_chi100_128.prim.00019.athdf',\n",
       " 'mixing_layer_tshtcool10_Mach03_chi100_128.prim.00020.athdf',\n",
       " 'mixing_layer_tshtcool10_Mach03_chi100_128.prim.00021.athdf',\n",
       " 'mixing_layer_tshtcool10_Mach03_chi100_128.prim.00022.athdf',\n",
       " 'mixing_layer_tshtcool10_Mach03_chi100_128.prim.00023.athdf',\n",
       " 'mixing_layer_tshtcool10_Mach03_chi100_128.prim.00024.athdf',\n",
       " 'mixing_layer_tshtcool10_Mach03_chi100_128.prim.00025.athdf',\n",
       " 'mixing_layer_tshtcool10_Mach03_chi100_128.prim.00026.athdf',\n",
       " 'mixing_layer_tshtcool10_Mach03_chi100_128.prim.00027.athdf',\n",
       " 'mixing_layer_tshtcool10_Mach03_chi100_128.prim.00028.athdf',\n",
       " 'mixing_layer_tshtcool10_Mach03_chi100_128.prim.00029.athdf',\n",
       " 'mixing_layer_tshtcool10_Mach03_chi100_128.prim.00030.athdf',\n",
       " 'mixing_layer_tshtcool10_Mach03_chi100_128.prim.00031.athdf',\n",
       " 'mixing_layer_tshtcool10_Mach03_chi100_128.prim.00032.athdf',\n",
       " 'mixing_layer_tshtcool10_Mach03_chi100_128.prim.00033.athdf',\n",
       " 'mixing_layer_tshtcool10_Mach03_chi100_128.prim.00034.athdf',\n",
       " 'mixing_layer_tshtcool10_Mach03_chi100_128.prim.00035.athdf',\n",
       " 'mixing_layer_tshtcool10_Mach03_chi100_128.prim.00036.athdf',\n",
       " 'mixing_layer_tshtcool10_Mach03_chi100_128.prim.00037.athdf',\n",
       " 'mixing_layer_tshtcool10_Mach03_chi100_128.prim.00038.athdf',\n",
       " 'mixing_layer_tshtcool10_Mach03_chi100_128.prim.00039.athdf',\n",
       " 'mixing_layer_tshtcool10_Mach03_chi100_128.prim.00040.athdf',\n",
       " 'mixing_layer_tshtcool10_Mach03_chi100_128.prim.00041.athdf',\n",
       " 'mixing_layer_tshtcool10_Mach03_chi100_128.prim.00042.athdf',\n",
       " 'mixing_layer_tshtcool10_Mach03_chi100_128.prim.00043.athdf',\n",
       " 'mixing_layer_tshtcool10_Mach03_chi100_128.prim.00044.athdf',\n",
       " 'mixing_layer_tshtcool10_Mach03_chi100_128.prim.00045.athdf',\n",
       " 'mixing_layer_tshtcool10_Mach03_chi100_128.prim.00046.athdf',\n",
       " 'mixing_layer_tshtcool10_Mach03_chi100_128.prim.00047.athdf',\n",
       " 'mixing_layer_tshtcool10_Mach03_chi100_128.prim.00048.athdf',\n",
       " 'mixing_layer_tshtcool10_Mach03_chi100_128.prim.00049.athdf',\n",
       " 'mixing_layer_tshtcool10_Mach03_chi100_128.prim.00050.athdf',\n",
       " 'mixing_layer_tshtcool10_Mach03_chi100_128.prim.00051.athdf',\n",
       " 'mixing_layer_tshtcool10_Mach03_chi100_128.prim.00052.athdf',\n",
       " 'mixing_layer_tshtcool10_Mach03_chi100_128.prim.00053.athdf',\n",
       " 'mixing_layer_tshtcool10_Mach03_chi100_128.prim.00054.athdf',\n",
       " 'mixing_layer_tshtcool10_Mach03_chi100_128.prim.00055.athdf',\n",
       " 'mixing_layer_tshtcool10_Mach03_chi100_128.prim.00056.athdf',\n",
       " 'mixing_layer_tshtcool10_Mach03_chi100_128.prim.00057.athdf',\n",
       " 'mixing_layer_tshtcool10_Mach03_chi100_128.prim.00058.athdf',\n",
       " 'mixing_layer_tshtcool10_Mach03_chi100_128.prim.00059.athdf',\n",
       " 'mixing_layer_tshtcool10_Mach03_chi100_128.prim.00060.athdf',\n",
       " 'mixing_layer_tshtcool10_Mach03_chi100_128.prim.00061.athdf',\n",
       " 'mixing_layer_tshtcool10_Mach03_chi100_128.prim.00062.athdf',\n",
       " 'mixing_layer_tshtcool10_Mach03_chi100_128.prim.00063.athdf',\n",
       " 'mixing_layer_tshtcool10_Mach03_chi100_128.prim.00064.athdf',\n",
       " 'mixing_layer_tshtcool10_Mach03_chi100_128.prim.00065.athdf',\n",
       " 'mixing_layer_tshtcool10_Mach03_chi100_128.prim.00066.athdf',\n",
       " 'mixing_layer_tshtcool10_Mach03_chi100_128.prim.00067.athdf',\n",
       " 'mixing_layer_tshtcool10_Mach03_chi100_128.prim.00068.athdf',\n",
       " 'mixing_layer_tshtcool10_Mach03_chi100_128.prim.00069.athdf',\n",
       " 'mixing_layer_tshtcool10_Mach03_chi100_128.prim.00070.athdf',\n",
       " 'mixing_layer_tshtcool10_Mach03_chi100_128.prim.00071.athdf',\n",
       " 'mixing_layer_tshtcool10_Mach03_chi100_128.prim.00072.athdf',\n",
       " 'mixing_layer_tshtcool10_Mach03_chi100_128.prim.00073.athdf',\n",
       " 'mixing_layer_tshtcool10_Mach03_chi100_128.prim.00074.athdf',\n",
       " 'mixing_layer_tshtcool10_Mach03_chi100_128.prim.00075.athdf',\n",
       " 'mixing_layer_tshtcool10_Mach03_chi100_128.prim.00076.athdf',\n",
       " 'mixing_layer_tshtcool10_Mach03_chi100_128.prim.00077.athdf',\n",
       " 'mixing_layer_tshtcool10_Mach03_chi100_128.prim.00078.athdf',\n",
       " 'mixing_layer_tshtcool10_Mach03_chi100_128.prim.00079.athdf',\n",
       " 'mixing_layer_tshtcool10_Mach03_chi100_128.prim.00080.athdf',\n",
       " 'mixing_layer_tshtcool10_Mach03_chi100_128.prim.00081.athdf',\n",
       " 'mixing_layer_tshtcool10_Mach03_chi100_128.prim.00082.athdf',\n",
       " 'mixing_layer_tshtcool10_Mach03_chi100_128.prim.00083.athdf',\n",
       " 'mixing_layer_tshtcool10_Mach03_chi100_128.prim.00084.athdf',\n",
       " 'mixing_layer_tshtcool10_Mach03_chi100_128.prim.00085.athdf',\n",
       " 'mixing_layer_tshtcool10_Mach03_chi100_128.prim.00086.athdf',\n",
       " 'mixing_layer_tshtcool10_Mach03_chi100_128.prim.00087.athdf',\n",
       " 'mixing_layer_tshtcool10_Mach03_chi100_128.prim.00088.athdf',\n",
       " 'mixing_layer_tshtcool10_Mach03_chi100_128.prim.00089.athdf',\n",
       " 'mixing_layer_tshtcool10_Mach03_chi100_128.prim.00090.athdf',\n",
       " 'mixing_layer_tshtcool10_Mach03_chi100_128.prim.00091.athdf',\n",
       " 'mixing_layer_tshtcool10_Mach03_chi100_128.prim.00092.athdf',\n",
       " 'mixing_layer_tshtcool10_Mach03_chi100_128.prim.00093.athdf',\n",
       " 'mixing_layer_tshtcool10_Mach03_chi100_128.prim.00094.athdf',\n",
       " 'mixing_layer_tshtcool10_Mach03_chi100_128.prim.00095.athdf',\n",
       " 'mixing_layer_tshtcool10_Mach03_chi100_128.prim.00096.athdf',\n",
       " 'mixing_layer_tshtcool10_Mach03_chi100_128.prim.00097.athdf',\n",
       " 'mixing_layer_tshtcool10_Mach03_chi100_128.prim.00098.athdf',\n",
       " 'mixing_layer_tshtcool10_Mach03_chi100_128.prim.00099.athdf',\n",
       " 'mixing_layer_tshtcool10_Mach03_chi100_128.prim.00100.athdf',\n",
       " 'mixing_layer_tshtcool10_Mach03_chi100_128.prim.00101.athdf']"
      ]
     },
     "metadata": {},
     "execution_count": 9
    }
   ],
   "metadata": {}
  },
  {
   "cell_type": "code",
   "execution_count": 10,
   "source": [
    "# take one sample for glance\n",
    "sample_name = sorted(os.listdir(data_path))[1]\n",
    "sample_name"
   ],
   "outputs": [
    {
     "output_type": "execute_result",
     "data": {
      "text/plain": [
       "'mixing_layer_tshtcool10_Mach03_chi100_128.prim.00000.athdf'"
      ]
     },
     "metadata": {},
     "execution_count": 10
    }
   ],
   "metadata": {}
  },
  {
   "cell_type": "code",
   "execution_count": 11,
   "source": [
    "# Here the file type is athdf, which is Athene++HDF5\n",
    "# read HDF5 file\n",
    "sample_path = data_path+'/'+sample_name\n",
    "f = h5py.File(sample_path, 'r')"
   ],
   "outputs": [],
   "metadata": {}
  },
  {
   "cell_type": "code",
   "execution_count": 12,
   "source": [
    "# HDF5 file acts like python dictionary\n",
    "list(f.keys())"
   ],
   "outputs": [
    {
     "output_type": "execute_result",
     "data": {
      "text/plain": [
       "['Levels',\n",
       " 'LogicalLocations',\n",
       " 'prim',\n",
       " 'x1f',\n",
       " 'x1v',\n",
       " 'x2f',\n",
       " 'x2v',\n",
       " 'x3f',\n",
       " 'x3v']"
      ]
     },
     "metadata": {},
     "execution_count": 12
    }
   ],
   "metadata": {}
  },
  {
   "cell_type": "code",
   "execution_count": 13,
   "source": [
    "# shape and dtype for each attribute\n",
    "[f[i] for i in list(f.keys())]"
   ],
   "outputs": [
    {
     "output_type": "execute_result",
     "data": {
      "text/plain": [
       "[<HDF5 dataset \"Levels\": shape (810,), type \">i4\">,\n",
       " <HDF5 dataset \"LogicalLocations\": shape (810, 3), type \">i8\">,\n",
       " <HDF5 dataset \"prim\": shape (5, 810, 32, 16, 16), type \"<f4\">,\n",
       " <HDF5 dataset \"x1f\": shape (810, 17), type \"<f4\">,\n",
       " <HDF5 dataset \"x1v\": shape (810, 16), type \"<f4\">,\n",
       " <HDF5 dataset \"x2f\": shape (810, 17), type \"<f4\">,\n",
       " <HDF5 dataset \"x2v\": shape (810, 16), type \"<f4\">,\n",
       " <HDF5 dataset \"x3f\": shape (810, 33), type \"<f4\">,\n",
       " <HDF5 dataset \"x3v\": shape (810, 32), type \"<f4\">]"
      ]
     },
     "metadata": {},
     "execution_count": 13
    }
   ],
   "metadata": {}
  },
  {
   "cell_type": "code",
   "execution_count": 14,
   "source": [
    "f[\"LogicalLocations\"][:]"
   ],
   "outputs": [
    {
     "output_type": "execute_result",
     "data": {
      "text/plain": [
       "array([[0, 0, 0],\n",
       "       [0, 0, 2],\n",
       "       [1, 0, 2],\n",
       "       ...,\n",
       "       [0, 1, 7],\n",
       "       [1, 1, 7],\n",
       "       [0, 0, 4]])"
      ]
     },
     "metadata": {},
     "execution_count": 14
    }
   ],
   "metadata": {}
  },
  {
   "cell_type": "markdown",
   "source": [
    "# need guidence to continue...\n",
    "\n",
    "1. meaning of each attribute\n",
    "2. work on \"LogicalLocations\" since this is the only 3D dataset?\n",
    "3. any indicator of 'time'?\n",
    "4. Are the files batched in chronological order or randomly batched?"
   ],
   "metadata": {}
  },
  {
   "cell_type": "markdown",
   "source": [],
   "metadata": {}
  }
 ],
 "metadata": {
  "orig_nbformat": 4,
  "language_info": {
   "name": "python",
   "version": "3.9.5",
   "mimetype": "text/x-python",
   "codemirror_mode": {
    "name": "ipython",
    "version": 3
   },
   "pygments_lexer": "ipython3",
   "nbconvert_exporter": "python",
   "file_extension": ".py"
  },
  "kernelspec": {
   "name": "python3",
   "display_name": "Python 3.9.5 64-bit ('base': conda)"
  },
  "interpreter": {
   "hash": "2adf98e4231a65e09d669e474fddc992d7745cb43c0aa5f06951e892e96a75b9"
  }
 },
 "nbformat": 4,
 "nbformat_minor": 2
}