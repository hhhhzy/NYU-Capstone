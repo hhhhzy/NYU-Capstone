{
 "cells": [
  {
   "cell_type": "markdown",
   "metadata": {
    "tags": []
   },
   "source": [
    "# Try to predict rho with the smallest turbulence dataset"
   ]
  },
  {
   "cell_type": "code",
   "execution_count": 2,
   "metadata": {},
   "outputs": [],
   "source": [
    "import numpy as np\n",
    "import os\n",
    "import torch\n",
    "from utils import *\n",
    "from athena_read import *\n",
    "from _arfima import arfima"
   ]
  },
  {
   "cell_type": "markdown",
   "metadata": {},
   "source": [
    "## Read the data with athena_read"
   ]
  },
  {
   "cell_type": "code",
   "execution_count": 3,
   "metadata": {},
   "outputs": [],
   "source": [
    "data_path='C:/Users/52673/Desktop/NYU MSDS/3-DS-1006 CAPSTONE/data_turb_dedt1_16'"
   ]
  },
  {
   "cell_type": "code",
   "execution_count": 4,
   "metadata": {},
   "outputs": [
    {
     "data": {
      "text/plain": [
       "array([-0.46875, -0.40625, -0.34375, -0.28125, -0.21875, -0.15625,\n",
       "       -0.09375, -0.03125,  0.03125,  0.09375,  0.15625,  0.21875,\n",
       "        0.28125,  0.34375,  0.40625,  0.46875], dtype=float32)"
      ]
     },
     "execution_count": 4,
     "metadata": {},
     "output_type": "execute_result"
    }
   ],
   "source": [
    "# lets take a look at what a sample looks like\n",
    "lst = sorted(os.listdir(data_path))[4:]\n",
    "sample_path = data_path + '/' + lst[4]\n",
    "sample = athdf(sample_path)\n",
    "sample['x3v']"
   ]
  },
  {
   "cell_type": "code",
   "execution_count": 5,
   "metadata": {},
   "outputs": [
    {
     "name": "stdout",
     "output_type": "stream",
     "text": [
      "size of rho: (16, 16, 16)\n"
     ]
    }
   ],
   "source": [
    "print('size of rho:', np.shape(sample['rho']))"
   ]
  },
  {
   "cell_type": "markdown",
   "metadata": {},
   "source": [
    "Q: Here the size of the matrix 'rho' for each timestep is (16,16,16). I interprete it like this: When I look into the setting that generate the dataset, I noticed that the mesh-block is set to be 16 for each axis x1, x2 and x3, so it is like cutting a large cube alone with its length, width, and height, each 16 times, and divide it into $16*16*16$ small cubes. So the matrix 'rho' represents the density of each small cube. \n",
    "\n",
    "Need to be confirmed."
   ]
  },
  {
   "cell_type": "markdown",
   "metadata": {},
   "source": [
    "## Extract rho and time from the original dataset"
   ]
  },
  {
   "cell_type": "code",
   "execution_count": 6,
   "metadata": {},
   "outputs": [],
   "source": [
    "time = []\n",
    "rho = []\n",
    "for name in lst:\n",
    "    path = data_path+'/'+name\n",
    "    d = athdf(path)\n",
    "    time.append(d['Time'])\n",
    "    rho.append(d['rho'])\n",
    "\n",
    "rho = np.array(rho)"
   ]
  },
  {
   "cell_type": "code",
   "execution_count": 7,
   "metadata": {},
   "outputs": [
    {
     "name": "stdout",
     "output_type": "stream",
     "text": [
      "gap between two time steps:  [0.008732914, 0.004386274, 0.004412315, 0.0044503715, 0.0044987686, 0.004519906, 0.004550522, 0.0045853965, 0.009305038, 0.004717216, 0.0047579333, 0.0048104264, 0.0048691407, 0.0049307495, 0.0049957708, 0.005053267, 0.0051188394, 0.0051931813, 0.0052760392, 0.0053668246, 0.005464494, 0.005568497, 0.0055926517, 0.005605586, 0.005638182, 0.0056675375, 0.0056544095, 0.005655691, 0.0056724995, 0.0057038367, 0.005744025, 0.005776748, 0.005776122, 0.00578624, 0.0058072805, 0.005786702, 0.0057302415, 0.005693823, 0.0056090504, 0.005554706, 0.005525619, 0.0055146664, 0.0055193305, 0.00553903, 0.0055715293, 0.0056138337, 0.0056639016, 0.0057087243, 0.005660951, 0.0056361556, 0.005596459, 0.005533755, 0.0055256784, 0.0055434406, 0.0055660605, 0.005599469, 0.005648643, 0.005661726, 0.00566715, 0.005690187, 0.0057277083, 0.0057603717, 0.005774826, 0.0058030784, 0.0058419406, 0.005887121, 0.005936116, 0.0059885383, 0.0060466826, 0.006113082, 0.0061888993, 0.006265551, 0.006338358, 0.00641194, 0.0064867735, 0.0065318346, 0.0064830184, 0.0064258873, 0.0063851476, 0.00635764, 0.006341964, 0.006338328, 0.006347418, 0.0063695014, 0.0064044, 0.0064516664, 0.0064923167, 0.0065377653, 0.006590128, 0.006639898, 0.006646991, 0.006655097, 0.006679654, 0.0067303777, 0.006801069, 0.0068870187, 0.006928146, 0.006896198, 0.006879449, 0.006873727, 0.0068854094, 0.0069194436, 0.006970763, 0.0070358515, 0.007039547, 0.006936908, 0.006857991, 0.0068003535, 0.006760597, 0.0067363977, 0.0067253113, 0.006726682, 0.006739497, 0.0067638755, 0.0067934394, 0.006785691, 0.006786585, 0.006798029, 0.006819427, 0.0068498254, 0.0068926215, 0.0069538355, 0.0070313215, 0.0071200132, 0.007218659, 0.007283628, 0.0073459744, 0.0073489547, 0.007289529, 0.007232845, 0.0071867704, 0.007151544, 0.0071256757, 0.0071077943, 0.0070997477, 0.007101059, 0.007110417, 0.0071049333, 0.007092476, 0.007091701, 0.0071026683, 0.0071228743, 0.0071507692, 0.007184446, 0.0072232485, 0.0072675347, 0.007317066, 0.007355809, 0.00736928, 0.00733912, 0.0073118806, 0.007287681, 0.007267058, 0.0072513223, 0.007243395, 0.0072469115, 0.007253289, 0.0072569847, 0.004576385, 0.0]\n"
     ]
    }
   ],
   "source": [
    "# check whether the time is evenly distributed\n",
    "time_gap = []\n",
    "for i in range(1,len(time)):\n",
    "    time_gap.append(time[i] - time[i-1])\n",
    "\n",
    "print('gap between two time steps: ', time_gap)"
   ]
  },
  {
   "cell_type": "markdown",
   "metadata": {},
   "source": [
    "Q: Here we notice that the time is not evenly distributed, so we might want to encode time into the transformer as well? But how?"
   ]
  },
  {
   "cell_type": "markdown",
   "metadata": {},
   "source": [
    "## Preprocess on rho"
   ]
  },
  {
   "cell_type": "code",
   "execution_count": 8,
   "metadata": {},
   "outputs": [
    {
     "data": {
      "text/plain": [
       "(161, 16, 16, 16)"
      ]
     },
     "execution_count": 8,
     "metadata": {},
     "output_type": "execute_result"
    }
   ],
   "source": [
    "ntime, nx1, nx2, nx3 = np.shape(rho)\n",
    "ntime, nx1, nx2, nx3"
   ]
  },
  {
   "cell_type": "code",
   "execution_count": 9,
   "metadata": {},
   "outputs": [
    {
     "data": {
      "text/plain": [
       "(659456,)"
      ]
     },
     "execution_count": 9,
     "metadata": {},
     "output_type": "execute_result"
    }
   ],
   "source": [
    "rho_reshaped = rho.flatten()\n",
    "np.shape(rho_reshaped)"
   ]
  },
  {
   "cell_type": "code",
   "execution_count": 10,
   "metadata": {},
   "outputs": [
    {
     "name": "stdout",
     "output_type": "stream",
     "text": [
      "1.0885758\n",
      "1.0885758\n"
     ]
    }
   ],
   "source": [
    "# check that the reshape does not lose the positional information\n",
    "time = 131\n",
    "x1 = 5\n",
    "x2 = 1\n",
    "x3 = 3\n",
    "\n",
    "print(rho[time][x1][x2][x3])\n",
    "print(rho_reshaped[time*(nx1*nx2*nx3)+x1*(nx2*nx3)+x2*(nx3)+x3])"
   ]
  },
  {
   "cell_type": "code",
   "execution_count": 18,
   "metadata": {},
   "outputs": [
    {
     "name": "stdout",
     "output_type": "stream",
     "text": [
      "the indices for an example pair of feature and target is:\n",
      "feature:  [0, 4096, 8192, 12288, 16384, 20480, 24576, 28672, 32768, 36864]\n",
      "target:  [4096, 8192, 12288, 16384, 20480, 24576, 28672, 32768, 36864, 40960]\n"
     ]
    }
   ],
   "source": [
    "f = [0+(nx1*nx2*nx3)*i for i in range(10)]\n",
    "t = [0+(nx1*nx2*nx3)*(i+1) for i in range(10)]\n",
    "print('the indices for an example pair of feature and target is:')\n",
    "print('feature: ', f)\n",
    "print('target: ', t)"
   ]
  },
  {
   "cell_type": "code",
   "execution_count": 19,
   "metadata": {},
   "outputs": [],
   "source": [
    "def to_windowed(data,meshed_blocks,window_size,pred_size):\n",
    "    nx1, nx2, nx3 = meshed_blocks\n",
    "    n = nx1*nx2*nx3\n",
    "    out = []\n",
    "    for i in range(len(data)-n*window_size):\n",
    "        feature  = np.array(data[[i+n*k for k in range(window_size)]])\n",
    "        target = np.array(data[[i+n*(k+pred_size) for k in range(window_size)]])        \n",
    "        out.append((feature,target))\n",
    "\n",
    "    return np.array(out)"
   ]
  },
  {
   "cell_type": "code",
   "execution_count": 23,
   "metadata": {},
   "outputs": [
    {
     "data": {
      "text/plain": [
       "(618496, 2, 10)"
      ]
     },
     "execution_count": 23,
     "metadata": {},
     "output_type": "execute_result"
    }
   ],
   "source": [
    "meshed_blocks = (nx1,nx2,nx3)\n",
    "np.shape(to_windowed(rho_reshaped,meshed_blocks,10,1))"
   ]
  },
  {
   "cell_type": "markdown",
   "metadata": {},
   "source": [
    "### Further check with the edited ultils function"
   ]
  },
  {
   "cell_type": "code",
   "execution_count": 24,
   "metadata": {},
   "outputs": [],
   "source": [
    "train_loader,val_loader, test_loader = get_data_loaders(train_proportion = 0.5, test_proportion = 0.25, val_proportion = 0.25,window_size = 10, \\\n",
    "    pred_size =1, batch_size = 16, num_workers = 1, pin_memory = True, test_mode = False)"
   ]
  },
  {
   "cell_type": "code",
   "execution_count": 25,
   "metadata": {},
   "outputs": [],
   "source": [
    "for i,(data, targets) in enumerate(train_loader):  \n",
    "            data, targets = data, targets"
   ]
  },
  {
   "cell_type": "code",
   "execution_count": 26,
   "metadata": {},
   "outputs": [
    {
     "data": {
      "text/plain": [
       "torch.Size([16, 10, 1])"
      ]
     },
     "execution_count": 26,
     "metadata": {},
     "output_type": "execute_result"
    }
   ],
   "source": [
    "targets.shape"
   ]
  },
  {
   "cell_type": "markdown",
   "metadata": {},
   "source": [
    "After adding the size of hidden layer, this would match with the required size to feed into the transformer (batch_size, sequence_length, feature_size)"
   ]
  }
 ],
 "metadata": {
  "interpreter": {
   "hash": "01cce90487304195a98c1fadead284adb0ca16778f239acdcba59c3951b79f2e"
  },
  "kernelspec": {
   "display_name": "Python 3.8.8 64-bit ('base': conda)",
   "name": "python3"
  },
  "language_info": {
   "codemirror_mode": {
    "name": "ipython",
    "version": 3
   },
   "file_extension": ".py",
   "mimetype": "text/x-python",
   "name": "python",
   "nbconvert_exporter": "python",
   "pygments_lexer": "ipython3",
   "version": "3.8.8"
  }
 },
 "nbformat": 4,
 "nbformat_minor": 4
}
